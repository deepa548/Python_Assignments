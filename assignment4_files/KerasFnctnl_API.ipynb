{
 "cells": [
  {
   "cell_type": "code",
   "execution_count": 1,
   "id": "9154a57e",
   "metadata": {},
   "outputs": [
    {
     "name": "stdout",
     "output_type": "stream",
     "text": [
      "Epoch 1/2\n",
      "750/750 [==============================] - 1s 1ms/step - loss: 0.3527 - accuracy: 0.8990 - val_loss: 0.1898 - val_accuracy: 0.9456\n",
      "Epoch 2/2\n",
      "750/750 [==============================] - 1s 1ms/step - loss: 0.1674 - accuracy: 0.9503 - val_loss: 0.1406 - val_accuracy: 0.9600\n",
      "313/313 - 0s - loss: 0.1360 - accuracy: 0.9602 - 216ms/epoch - 691us/step\n",
      "Test loss: 0.13597550988197327\n",
      "Test accuracy: 0.9602000117301941\n"
     ]
    },
    {
     "name": "stderr",
     "output_type": "stream",
     "text": [
      "WARNING:absl:Found untraced functions such as _update_step_xla while saving (showing 1 of 1). These functions will not be directly callable after loading.\n"
     ]
    },
    {
     "name": "stdout",
     "output_type": "stream",
     "text": [
      "INFO:tensorflow:Assets written to: C:\\HI_Course\\Sem4SoftwareEnggTechn\\UI\\assignment4_files\\test1\\keras_model.mdl\\assets\n"
     ]
    },
    {
     "name": "stderr",
     "output_type": "stream",
     "text": [
      "INFO:tensorflow:Assets written to: C:\\HI_Course\\Sem4SoftwareEnggTechn\\UI\\assignment4_files\\test1\\keras_model.mdl\\assets\n"
     ]
    },
    {
     "name": "stdout",
     "output_type": "stream",
     "text": [
      "Model: \"mnist_model\"\n",
      "_________________________________________________________________\n",
      " Layer (type)                Output Shape              Param #   \n",
      "=================================================================\n",
      " input_1 (InputLayer)        [(None, 784)]             0         \n",
      "                                                                 \n",
      " dense (Dense)               (None, 64)                50240     \n",
      "                                                                 \n",
      " dense_1 (Dense)             (None, 64)                4160      \n",
      "                                                                 \n",
      " dense_2 (Dense)             (None, 10)                650       \n",
      "                                                                 \n",
      "=================================================================\n",
      "Total params: 55,050\n",
      "Trainable params: 55,050\n",
      "Non-trainable params: 0\n",
      "_________________________________________________________________\n"
     ]
    }
   ],
   "source": [
    "import numpy as np\n",
    "import tensorflow as tf\n",
    "from tensorflow import keras\n",
    "from tensorflow.keras import layers\n",
    "\n",
    "inputs = keras.Input(shape=(784,)) #2^3*7^2\n",
    "\n",
    "dense = layers.Dense(64, activation=\"relu\")\n",
    "x = dense(inputs)\n",
    "\n",
    "y = layers.Dense(64, activation=\"relu\")(x)\n",
    "outputs = layers.Dense(10)(y)\n",
    "\n",
    "model = keras.Model(inputs=inputs, outputs=outputs, name=\"mnist_model\")\n",
    "keras.utils.plot_model(model, r\"C:\\HI_Course\\Sem4SoftwareEnggTechn\\UI\\assignment4_files\\test1\\my_first_model.png\")\n",
    "keras.utils.plot_model(model, r\"C:\\HI_Course\\Sem4SoftwareEnggTechn\\UI\\assignment4_files\\test1\\my_first_model_with_shape_info.png\", show_shapes=True)\n",
    "\n",
    "\n",
    "(x_train, y_train), (x_test, y_test) = keras.datasets.mnist.load_data()\n",
    "\n",
    "x_train = x_train.reshape(60000, 784).astype(\"float32\") / 255\n",
    "x_test = x_test.reshape(10000, 784).astype(\"float32\") / 255\n",
    "\n",
    "model.compile(\n",
    "loss=keras.losses.SparseCategoricalCrossentropy(from_logits=True),\n",
    "optimizer=keras.optimizers.RMSprop(),\n",
    "metrics=[\"accuracy\"],\n",
    ")\n",
    "history = model.fit(x_train, y_train, batch_size=64, epochs=2, validation_split=0.2)\n",
    "\n",
    "test_scores = model.evaluate(x_test, y_test, verbose=2)\n",
    "print(\"Test loss:\", test_scores[0])\n",
    "print(\"Test accuracy:\", test_scores[1])\n",
    "\n",
    "model.save(r\"C:\\HI_Course\\Sem4SoftwareEnggTechn\\UI\\assignment4_files\\test1\\keras_model.mdl\")\n",
    "del model\n",
    "# Recreate the exact same model purely from the file:\n",
    "model2 = keras.models.load_model(r\"C:\\HI_Course\\Sem4SoftwareEnggTechn\\UI\\assignment4_files\\test1\\keras_model.mdl\")\n",
    "model2.summary()\n"
   ]
  },
  {
   "cell_type": "code",
   "execution_count": null,
   "id": "cc166a41",
   "metadata": {},
   "outputs": [],
   "source": []
  }
 ],
 "metadata": {
  "kernelspec": {
   "display_name": "Python 3 (ipykernel)",
   "language": "python",
   "name": "python3"
  },
  "language_info": {
   "codemirror_mode": {
    "name": "ipython",
    "version": 3
   },
   "file_extension": ".py",
   "mimetype": "text/x-python",
   "name": "python",
   "nbconvert_exporter": "python",
   "pygments_lexer": "ipython3",
   "version": "3.9.5"
  }
 },
 "nbformat": 4,
 "nbformat_minor": 5
}
