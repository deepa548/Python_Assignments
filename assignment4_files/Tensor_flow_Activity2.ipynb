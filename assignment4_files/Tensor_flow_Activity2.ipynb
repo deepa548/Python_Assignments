{
 "cells": [
  {
   "cell_type": "markdown",
   "id": "6fb6cb3e",
   "metadata": {},
   "source": [
    "# create variable tensors with the corresponding methods"
   ]
  },
  {
   "cell_type": "code",
   "execution_count": 2,
   "id": "82d021ba",
   "metadata": {},
   "outputs": [],
   "source": [
    "import tensorflow as tf"
   ]
  },
  {
   "cell_type": "code",
   "execution_count": 3,
   "id": "fa11a23c",
   "metadata": {},
   "outputs": [],
   "source": [
    "xvar=tf.random.normal(shape=(3,3))"
   ]
  },
  {
   "cell_type": "code",
   "execution_count": 4,
   "id": "5470c0db",
   "metadata": {},
   "outputs": [
    {
     "data": {
      "text/plain": [
       "<tf.Tensor: shape=(3, 3), dtype=float32, numpy=\n",
       "array([[ 1.1126947 ,  0.88340896,  0.30006835],\n",
       "       [ 0.87129664,  0.17544802,  0.09124355],\n",
       "       [-0.07546281,  1.0176201 ,  0.04334327]], dtype=float32)>"
      ]
     },
     "execution_count": 4,
     "metadata": {},
     "output_type": "execute_result"
    }
   ],
   "source": [
    "xvar"
   ]
  },
  {
   "cell_type": "code",
   "execution_count": 5,
   "id": "2bc95c4b",
   "metadata": {},
   "outputs": [],
   "source": [
    "a=tf.Variable(xvar)"
   ]
  },
  {
   "cell_type": "code",
   "execution_count": 6,
   "id": "87ca2aa7",
   "metadata": {},
   "outputs": [
    {
     "data": {
      "text/plain": [
       "<tf.Variable 'Variable:0' shape=(3, 3) dtype=float32, numpy=\n",
       "array([[ 1.1126947 ,  0.88340896,  0.30006835],\n",
       "       [ 0.87129664,  0.17544802,  0.09124355],\n",
       "       [-0.07546281,  1.0176201 ,  0.04334327]], dtype=float32)>"
      ]
     },
     "execution_count": 6,
     "metadata": {},
     "output_type": "execute_result"
    }
   ],
   "source": [
    "a"
   ]
  },
  {
   "cell_type": "code",
   "execution_count": 7,
   "id": "e18e410e",
   "metadata": {},
   "outputs": [
    {
     "data": {
      "text/plain": [
       "<tf.Variable 'UnreadVariable' shape=(3, 3) dtype=float32, numpy=\n",
       "array([[-0.2802384 ,  0.22264999,  0.2217753 ],\n",
       "       [ 1.340495  ,  0.21808411, -0.79762644],\n",
       "       [ 1.0730777 , -1.5985533 , -0.22874902]], dtype=float32)>"
      ]
     },
     "execution_count": 7,
     "metadata": {},
     "output_type": "execute_result"
    }
   ],
   "source": [
    "a.assign(tf.random.normal(shape=(3,3)))"
   ]
  },
  {
   "cell_type": "code",
   "execution_count": 8,
   "id": "f0f28aaf",
   "metadata": {},
   "outputs": [],
   "source": [
    "xvar_t_add=tf.random.normal(shape=(3,3))"
   ]
  },
  {
   "cell_type": "code",
   "execution_count": 9,
   "id": "214d0375",
   "metadata": {},
   "outputs": [
    {
     "data": {
      "text/plain": [
       "<tf.Tensor: shape=(3, 3), dtype=float32, numpy=\n",
       "array([[-1.4657497 , -1.1722509 ,  0.7237519 ],\n",
       "       [ 0.287711  , -0.19811721, -0.05307561],\n",
       "       [ 0.9014626 ,  0.36722845, -0.13447502]], dtype=float32)>"
      ]
     },
     "execution_count": 9,
     "metadata": {},
     "output_type": "execute_result"
    }
   ],
   "source": [
    "xvar_t_add"
   ]
  },
  {
   "cell_type": "code",
   "execution_count": 10,
   "id": "3917db49",
   "metadata": {},
   "outputs": [
    {
     "data": {
      "text/plain": [
       "<tf.Variable 'UnreadVariable' shape=(3, 3) dtype=float32, numpy=\n",
       "array([[-1.7459881 , -0.9496009 ,  0.9455272 ],\n",
       "       [ 1.628206  ,  0.0199669 , -0.85070205],\n",
       "       [ 1.9745402 , -1.2313249 , -0.36322403]], dtype=float32)>"
      ]
     },
     "execution_count": 10,
     "metadata": {},
     "output_type": "execute_result"
    }
   ],
   "source": [
    "a.assign_add(xvar_t_add)"
   ]
  },
  {
   "cell_type": "code",
   "execution_count": 11,
   "id": "a6d15e2f",
   "metadata": {},
   "outputs": [
    {
     "data": {
      "text/plain": [
       "<tf.Variable 'UnreadVariable' shape=(3, 3) dtype=float32, numpy=\n",
       "array([[-0.2802384 ,  0.22264999,  0.2217753 ],\n",
       "       [ 1.340495  ,  0.21808411, -0.79762644],\n",
       "       [ 1.0730777 , -1.5985534 , -0.228749  ]], dtype=float32)>"
      ]
     },
     "execution_count": 11,
     "metadata": {},
     "output_type": "execute_result"
    }
   ],
   "source": [
    "a.assign_sub(xvar_t_add)"
   ]
  },
  {
   "cell_type": "code",
   "execution_count": 12,
   "id": "01eda177",
   "metadata": {},
   "outputs": [
    {
     "data": {
      "text/plain": [
       "<tf.Tensor: shape=(3, 3), dtype=float32, numpy=\n",
       "array([[-0.36468646,  0.93324083,  0.47895434],\n",
       "       [-0.51162946,  2.3992991 , -0.16825075],\n",
       "       [-0.7021468 ,  0.49745294,  0.67879194]], dtype=float32)>"
      ]
     },
     "execution_count": 12,
     "metadata": {},
     "output_type": "execute_result"
    }
   ],
   "source": [
    "new_value=tf.random.normal(shape=(3,3))\n",
    "new_value"
   ]
  },
  {
   "cell_type": "code",
   "execution_count": 13,
   "id": "ac8cb0d2",
   "metadata": {},
   "outputs": [
    {
     "data": {
      "text/plain": [
       "<tf.Variable 'Variable:0' shape=(3, 3) dtype=float32, numpy=\n",
       "array([[-0.2802384 ,  0.22264999,  0.2217753 ],\n",
       "       [ 1.340495  ,  0.21808411, -0.79762644],\n",
       "       [ 1.0730777 , -1.5985534 , -0.228749  ]], dtype=float32)>"
      ]
     },
     "execution_count": 13,
     "metadata": {},
     "output_type": "execute_result"
    }
   ],
   "source": [
    "a"
   ]
  },
  {
   "cell_type": "code",
   "execution_count": 14,
   "id": "9982fa78",
   "metadata": {},
   "outputs": [
    {
     "data": {
      "text/plain": [
       "<tf.Variable 'UnreadVariable' shape=(3, 3) dtype=float32, numpy=\n",
       "array([[-0.6449249 ,  1.1558908 ,  0.7007296 ],\n",
       "       [ 0.8288655 ,  2.6173832 , -0.9658772 ],\n",
       "       [ 0.37093085, -1.1011004 ,  0.45004293]], dtype=float32)>"
      ]
     },
     "execution_count": 14,
     "metadata": {},
     "output_type": "execute_result"
    }
   ],
   "source": [
    "a.assign_add(new_value)"
   ]
  },
  {
   "cell_type": "code",
   "execution_count": 15,
   "id": "d5b9bc39",
   "metadata": {},
   "outputs": [],
   "source": [
    "b=tf.random.normal(shape=(3,3))"
   ]
  },
  {
   "cell_type": "code",
   "execution_count": 16,
   "id": "21dab5f8",
   "metadata": {},
   "outputs": [
    {
     "data": {
      "text/plain": [
       "<tf.Tensor: shape=(3, 3), dtype=float32, numpy=\n",
       "array([[-0.29989848,  0.37880355,  0.77906215],\n",
       "       [ 0.0165449 , -1.2872458 ,  0.5284248 ],\n",
       "       [-2.229802  , -0.71475446, -0.51731104]], dtype=float32)>"
      ]
     },
     "execution_count": 16,
     "metadata": {},
     "output_type": "execute_result"
    }
   ],
   "source": [
    "b"
   ]
  },
  {
   "cell_type": "code",
   "execution_count": 17,
   "id": "4d3bb333",
   "metadata": {},
   "outputs": [
    {
     "data": {
      "text/plain": [
       "<tf.Tensor: shape=(3, 3), dtype=float32, numpy=\n",
       "array([[-0.9448234 ,  1.5346944 ,  1.4797918 ],\n",
       "       [ 0.8454104 ,  1.3301375 , -0.43745238],\n",
       "       [-1.858871  , -1.8158549 , -0.0672681 ]], dtype=float32)>"
      ]
     },
     "execution_count": 17,
     "metadata": {},
     "output_type": "execute_result"
    }
   ],
   "source": [
    "c=a+b\n",
    "c"
   ]
  },
  {
   "cell_type": "code",
   "execution_count": 18,
   "id": "0fc76207",
   "metadata": {},
   "outputs": [
    {
     "data": {
      "text/plain": [
       "<tf.Tensor: shape=(3, 3), dtype=float32, numpy=\n",
       "array([[0.89269125, 2.355287  , 2.1897836 ],\n",
       "       [0.71471876, 1.7692658 , 0.19136459],\n",
       "       [3.4554014 , 3.297329  , 0.004525  ]], dtype=float32)>"
      ]
     },
     "execution_count": 18,
     "metadata": {},
     "output_type": "execute_result"
    }
   ],
   "source": [
    "d=tf.square(c)\n",
    "d"
   ]
  },
  {
   "cell_type": "code",
   "execution_count": 19,
   "id": "d86eaf74",
   "metadata": {},
   "outputs": [
    {
     "data": {
      "text/plain": [
       "<tf.Tensor: shape=(3, 3), dtype=float32, numpy=\n",
       "array([[0.38874823, 4.6399074 , 4.392031  ],\n",
       "       [2.3289332 , 3.7815633 , 0.6456793 ],\n",
       "       [0.15584849, 0.16269876, 0.9349445 ]], dtype=float32)>"
      ]
     },
     "execution_count": 19,
     "metadata": {},
     "output_type": "execute_result"
    }
   ],
   "source": [
    "e=tf.exp(c)\n",
    "e"
   ]
  },
  {
   "cell_type": "code",
   "execution_count": 20,
   "id": "648194c4",
   "metadata": {},
   "outputs": [
    {
     "ename": "IndentationError",
     "evalue": "expected an indented block (3986227147.py, line 1)",
     "output_type": "error",
     "traceback": [
      "\u001b[1;36m  Cell \u001b[1;32mIn[20], line 1\u001b[1;36m\u001b[0m\n\u001b[1;33m    with tf.GradientTape() as tape:\u001b[0m\n\u001b[1;37m                                   ^\u001b[0m\n\u001b[1;31mIndentationError\u001b[0m\u001b[1;31m:\u001b[0m expected an indented block\n"
     ]
    }
   ],
   "source": [
    "with tf.GradientTape() as tape:"
   ]
  },
  {
   "cell_type": "code",
   "execution_count": 21,
   "id": "0024ab74",
   "metadata": {},
   "outputs": [
    {
     "name": "stdout",
     "output_type": "stream",
     "text": [
      "tf.Tensor(\n",
      "[[-0.90675694  0.9502726   0.66874   ]\n",
      " [ 0.9998008   0.8973489  -0.87729055]\n",
      " [ 0.16409649 -0.83877796  0.65635085]], shape=(3, 3), dtype=float32)\n"
     ]
    }
   ],
   "source": [
    "with tf.GradientTape() as tape:\n",
    "    tape.watch(a)\n",
    "    f=tf.sqrt(tf.square(a)+tf.square(b))\n",
    "    df_da=tape.gradient(f,a)\n",
    "    print(df_da)"
   ]
  },
  {
   "cell_type": "code",
   "execution_count": null,
   "id": "35685dd8",
   "metadata": {},
   "outputs": [],
   "source": []
  }
 ],
 "metadata": {
  "kernelspec": {
   "display_name": "Python 3 (ipykernel)",
   "language": "python",
   "name": "python3"
  },
  "language_info": {
   "codemirror_mode": {
    "name": "ipython",
    "version": 3
   },
   "file_extension": ".py",
   "mimetype": "text/x-python",
   "name": "python",
   "nbconvert_exporter": "python",
   "pygments_lexer": "ipython3",
   "version": "3.9.5"
  }
 },
 "nbformat": 4,
 "nbformat_minor": 5
}
